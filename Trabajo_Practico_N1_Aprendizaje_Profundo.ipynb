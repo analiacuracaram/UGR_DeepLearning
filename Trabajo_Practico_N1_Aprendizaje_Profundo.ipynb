{
  "cells": [
    {
      "cell_type": "markdown",
      "metadata": {
        "id": "view-in-github",
        "colab_type": "text"
      },
      "source": [
        "<a href=\"https://colab.research.google.com/github/analiacuracaram/UGR_DeepLearning/blob/main/Trabajo_Practico_N1_Aprendizaje_Profundo.ipynb\" target=\"_parent\"><img src=\"https://colab.research.google.com/assets/colab-badge.svg\" alt=\"Open In Colab\"/></a>"
      ]
    },
    {
      "cell_type": "markdown",
      "metadata": {
        "id": "47ytJqdFO8le"
      },
      "source": [
        "###**Alumnas**\n",
        "      Guadalupe Solé\n",
        "\n",
        "      Analía Cura Caram"
      ]
    },
    {
      "cell_type": "markdown",
      "metadata": {
        "id": "zzikSrf1QOG_"
      },
      "source": [
        "##Readme\n",
        "Este trabajo se abordó siguiendo la documentación citada en https://www.physionet.org/content/mitdb/1.0.0/\n",
        "\n",
        "Acorde a como allí se solicita, se cita la fuente de información:\n",
        "\n",
        "*Goldberger, A., Amaral, L., Glass, L., Hausdorff, J., Ivanov, P. C., Mark, R., ... & Stanley, H. E. (2000). PhysioBank, PhysioToolkit, and PhysioNet: Components of a new research resource for complex physiologic signals. Circulation [Online]. 101 (23), pp. e215–e220.*"
      ]
    },
    {
      "cell_type": "markdown",
      "metadata": {
        "id": "gEGM866pR-Q5"
      },
      "source": [
        "#Paso 1 - Dataset"
      ]
    },
    {
      "cell_type": "markdown",
      "metadata": {
        "id": "jl_ZCrO0Xn-E"
      },
      "source": [
        "Documentación wfdb https://physionet.org/content/wfdb-python/3.4.1/"
      ]
    },
    {
      "cell_type": "code",
      "execution_count": 1,
      "metadata": {
        "colab": {
          "base_uri": "https://localhost:8080/"
        },
        "collapsed": true,
        "id": "WZP2o_2YU4Kl",
        "outputId": "5878c1a3-2782-4ae9-90ed-9abad5953bd6"
      },
      "outputs": [
        {
          "output_type": "stream",
          "name": "stdout",
          "text": [
            "Collecting wfdb\n",
            "  Downloading wfdb-4.3.0-py3-none-any.whl.metadata (3.8 kB)\n",
            "Requirement already satisfied: aiohttp>=3.10.11 in /usr/local/lib/python3.11/dist-packages (from wfdb) (3.11.15)\n",
            "Requirement already satisfied: fsspec>=2023.10.0 in /usr/local/lib/python3.11/dist-packages (from wfdb) (2025.3.2)\n",
            "Requirement already satisfied: matplotlib>=3.2.2 in /usr/local/lib/python3.11/dist-packages (from wfdb) (3.10.0)\n",
            "Requirement already satisfied: numpy>=1.26.4 in /usr/local/lib/python3.11/dist-packages (from wfdb) (2.0.2)\n",
            "Collecting pandas>=2.2.3 (from wfdb)\n",
            "  Downloading pandas-2.2.3-cp311-cp311-manylinux_2_17_x86_64.manylinux2014_x86_64.whl.metadata (89 kB)\n",
            "\u001b[2K     \u001b[90m━━━━━━━━━━━━━━━━━━━━━━━━━━━━━━━━━━━━━━━━\u001b[0m \u001b[32m89.9/89.9 kB\u001b[0m \u001b[31m1.2 MB/s\u001b[0m eta \u001b[36m0:00:00\u001b[0m\n",
            "\u001b[?25hRequirement already satisfied: requests>=2.8.1 in /usr/local/lib/python3.11/dist-packages (from wfdb) (2.32.3)\n",
            "Requirement already satisfied: scipy>=1.13.0 in /usr/local/lib/python3.11/dist-packages (from wfdb) (1.15.2)\n",
            "Requirement already satisfied: soundfile>=0.10.0 in /usr/local/lib/python3.11/dist-packages (from wfdb) (0.13.1)\n",
            "Requirement already satisfied: aiohappyeyeballs>=2.3.0 in /usr/local/lib/python3.11/dist-packages (from aiohttp>=3.10.11->wfdb) (2.6.1)\n",
            "Requirement already satisfied: aiosignal>=1.1.2 in /usr/local/lib/python3.11/dist-packages (from aiohttp>=3.10.11->wfdb) (1.3.2)\n",
            "Requirement already satisfied: attrs>=17.3.0 in /usr/local/lib/python3.11/dist-packages (from aiohttp>=3.10.11->wfdb) (25.3.0)\n",
            "Requirement already satisfied: frozenlist>=1.1.1 in /usr/local/lib/python3.11/dist-packages (from aiohttp>=3.10.11->wfdb) (1.6.0)\n",
            "Requirement already satisfied: multidict<7.0,>=4.5 in /usr/local/lib/python3.11/dist-packages (from aiohttp>=3.10.11->wfdb) (6.4.3)\n",
            "Requirement already satisfied: propcache>=0.2.0 in /usr/local/lib/python3.11/dist-packages (from aiohttp>=3.10.11->wfdb) (0.3.1)\n",
            "Requirement already satisfied: yarl<2.0,>=1.17.0 in /usr/local/lib/python3.11/dist-packages (from aiohttp>=3.10.11->wfdb) (1.20.0)\n",
            "Requirement already satisfied: contourpy>=1.0.1 in /usr/local/lib/python3.11/dist-packages (from matplotlib>=3.2.2->wfdb) (1.3.2)\n",
            "Requirement already satisfied: cycler>=0.10 in /usr/local/lib/python3.11/dist-packages (from matplotlib>=3.2.2->wfdb) (0.12.1)\n",
            "Requirement already satisfied: fonttools>=4.22.0 in /usr/local/lib/python3.11/dist-packages (from matplotlib>=3.2.2->wfdb) (4.57.0)\n",
            "Requirement already satisfied: kiwisolver>=1.3.1 in /usr/local/lib/python3.11/dist-packages (from matplotlib>=3.2.2->wfdb) (1.4.8)\n",
            "Requirement already satisfied: packaging>=20.0 in /usr/local/lib/python3.11/dist-packages (from matplotlib>=3.2.2->wfdb) (24.2)\n",
            "Requirement already satisfied: pillow>=8 in /usr/local/lib/python3.11/dist-packages (from matplotlib>=3.2.2->wfdb) (11.2.1)\n",
            "Requirement already satisfied: pyparsing>=2.3.1 in /usr/local/lib/python3.11/dist-packages (from matplotlib>=3.2.2->wfdb) (3.2.3)\n",
            "Requirement already satisfied: python-dateutil>=2.7 in /usr/local/lib/python3.11/dist-packages (from matplotlib>=3.2.2->wfdb) (2.9.0.post0)\n",
            "Requirement already satisfied: pytz>=2020.1 in /usr/local/lib/python3.11/dist-packages (from pandas>=2.2.3->wfdb) (2025.2)\n",
            "Requirement already satisfied: tzdata>=2022.7 in /usr/local/lib/python3.11/dist-packages (from pandas>=2.2.3->wfdb) (2025.2)\n",
            "Requirement already satisfied: charset-normalizer<4,>=2 in /usr/local/lib/python3.11/dist-packages (from requests>=2.8.1->wfdb) (3.4.1)\n",
            "Requirement already satisfied: idna<4,>=2.5 in /usr/local/lib/python3.11/dist-packages (from requests>=2.8.1->wfdb) (3.10)\n",
            "Requirement already satisfied: urllib3<3,>=1.21.1 in /usr/local/lib/python3.11/dist-packages (from requests>=2.8.1->wfdb) (2.4.0)\n",
            "Requirement already satisfied: certifi>=2017.4.17 in /usr/local/lib/python3.11/dist-packages (from requests>=2.8.1->wfdb) (2025.4.26)\n",
            "Requirement already satisfied: cffi>=1.0 in /usr/local/lib/python3.11/dist-packages (from soundfile>=0.10.0->wfdb) (1.17.1)\n",
            "Requirement already satisfied: pycparser in /usr/local/lib/python3.11/dist-packages (from cffi>=1.0->soundfile>=0.10.0->wfdb) (2.22)\n",
            "Requirement already satisfied: six>=1.5 in /usr/local/lib/python3.11/dist-packages (from python-dateutil>=2.7->matplotlib>=3.2.2->wfdb) (1.17.0)\n",
            "Downloading wfdb-4.3.0-py3-none-any.whl (163 kB)\n",
            "\u001b[2K   \u001b[90m━━━━━━━━━━━━━━━━━━━━━━━━━━━━━━━━━━━━━━━━\u001b[0m \u001b[32m163.8/163.8 kB\u001b[0m \u001b[31m4.2 MB/s\u001b[0m eta \u001b[36m0:00:00\u001b[0m\n",
            "\u001b[?25hDownloading pandas-2.2.3-cp311-cp311-manylinux_2_17_x86_64.manylinux2014_x86_64.whl (13.1 MB)\n",
            "\u001b[2K   \u001b[90m━━━━━━━━━━━━━━━━━━━━━━━━━━━━━━━━━━━━━━━━\u001b[0m \u001b[32m13.1/13.1 MB\u001b[0m \u001b[31m27.7 MB/s\u001b[0m eta \u001b[36m0:00:00\u001b[0m\n",
            "\u001b[?25hInstalling collected packages: pandas, wfdb\n",
            "  Attempting uninstall: pandas\n",
            "    Found existing installation: pandas 2.2.2\n",
            "    Uninstalling pandas-2.2.2:\n",
            "      Successfully uninstalled pandas-2.2.2\n",
            "\u001b[31mERROR: pip's dependency resolver does not currently take into account all the packages that are installed. This behaviour is the source of the following dependency conflicts.\n",
            "google-colab 1.0.0 requires pandas==2.2.2, but you have pandas 2.2.3 which is incompatible.\u001b[0m\u001b[31m\n",
            "\u001b[0mSuccessfully installed pandas-2.2.3 wfdb-4.3.0\n"
          ]
        }
      ],
      "source": [
        "!pip install wfdb #Instalamos el paquete wfdb para poder manejar los waveform, usando el gestor pip (si da error de dependencias con la v de Pandas agregar el flag --use-deprecated=legacy-resolver)"
      ]
    },
    {
      "cell_type": "markdown",
      "metadata": {
        "id": "JY8oXHV0VS43"
      },
      "source": [
        "##1.1 Importamos el dataset"
      ]
    },
    {
      "cell_type": "code",
      "execution_count": 2,
      "metadata": {
        "id": "NoUy4dYtcIop"
      },
      "outputs": [],
      "source": [
        "import wfdb\n",
        "waveform_db = 'mitdb'"
      ]
    },
    {
      "cell_type": "code",
      "execution_count": 3,
      "metadata": {
        "colab": {
          "base_uri": "https://localhost:8080/"
        },
        "id": "G3OgMdIBe5rE",
        "outputId": "8e818ce1-4eee-4570-8d7c-866bbe15a4c1"
      },
      "outputs": [
        {
          "output_type": "stream",
          "name": "stdout",
          "text": [
            "La 'mitdb' base de datos contiene 48 muestras\n"
          ]
        }
      ],
      "source": [
        "subjects = wfdb.get_record_list(waveform_db)\n",
        "print(f\"La '{waveform_db}' base de datos contiene {len(subjects)} muestras\")"
      ]
    },
    {
      "cell_type": "code",
      "execution_count": 4,
      "metadata": {
        "colab": {
          "base_uri": "https://localhost:8080/",
          "height": 352
        },
        "id": "2jjhpYq6PFno",
        "outputId": "94352477-18d6-478a-8d8a-a6f13b7df268"
      },
      "outputs": [
        {
          "output_type": "display_data",
          "data": {
            "text/plain": [
              "<Figure size 1500x400 with 1 Axes>"
            ],
            "image/png": "[encoded data removed]"
          },
          "metadata": {}
        }
      ],
      "source": [
        "import wfdb\n",
        "import matplotlib.pyplot as plt\n",
        "\n",
        "record1 = '100' #Graficamos el primer registro para probar la importación\n",
        "record = wfdb.rdrecord(record1, pn_dir='mitdb')\n",
        "\n",
        "plt.figure(figsize=(15, 4))\n",
        "for i in range(record.p_signal.shape[1]):\n",
        "    plt.plot(record.p_signal[:, i], label=f'Señal {i+1}')\n",
        "plt.xlabel('Muestras')\n",
        "plt.ylabel('Amplitud')\n",
        "plt.legend()\n",
        "plt.grid(True)\n",
        "plt.show()\n"
      ]
    },
    {
      "cell_type": "markdown",
      "metadata": {
        "id": "bmomOqugQAwh"
      },
      "source": [
        "###1.2 Clasificación en 3 clases\n",
        "Normal(N), Contracción Ventricular Prematura (PVC) y Latido Supraventricular (APB)"
      ]
    },
    {
      "cell_type": "code",
      "execution_count": 5,
      "metadata": {
        "id": "EQWwjihRcEN7"
      },
      "outputs": [],
      "source": [
        "import pandas as pd"
      ]
    },
    {
      "cell_type": "code",
      "execution_count": 6,
      "metadata": {
        "id": "1skA4NWWUssr",
        "colab": {
          "base_uri": "https://localhost:8080/",
          "height": 223
        },
        "outputId": "e03d07ae-2207-49a6-fee2-8fd4023d9aef"
      },
      "outputs": [
        {
          "output_type": "stream",
          "name": "stdout",
          "text": [
            "DataFrame construido con 84703 latidos.\n"
          ]
        },
        {
          "output_type": "execute_result",
          "data": {
            "text/plain": [
              "  record  sample label                                             signal\n",
              "0    100     370     N  [-0.315, -0.3, -0.305, -0.31, -0.32, -0.33, -0...\n",
              "1    100     662     N  [-0.345, -0.345, -0.345, -0.33, -0.33, -0.335,...\n",
              "2    100     946     N  [-0.365, -0.345, -0.345, -0.34, -0.355, -0.365...\n",
              "3    100    1231     N  [-0.35, -0.35, -0.35, -0.34, -0.34, -0.345, -0...\n",
              "4    100    1515     N  [-0.33, -0.315, -0.315, -0.33, -0.33, -0.335, ..."
            ],
            "text/html": [
              "\n",
              "  <div id=\"df-44b3c5eb-3ace-4c81-bf84-571f6428f8d1\" class=\"colab-df-container\">\n",
              "    <div>\n",
              "<style scoped>\n",
              "    .dataframe tbody tr th:only-of-type {\n",
              "        vertical-align: middle;\n",
              "    }\n",
              "\n",
              "    .dataframe tbody tr th {\n",
              "        vertical-align: top;\n",
              "    }\n",
              "\n",
              "    .dataframe thead th {\n",
              "        text-align: right;\n",
              "    }\n",
              "</style>\n",
              "<table border=\"1\" class=\"dataframe\">\n",
              "  <thead>\n",
              "    <tr style=\"text-align: right;\">\n",
              "      <th></th>\n",
              "      <th>record</th>\n",
              "      <th>sample</th>\n",
              "      <th>label</th>\n",
              "      <th>signal</th>\n",
              "    </tr>\n",
              "  </thead>\n",
              "  <tbody>\n",
              "    <tr>\n",
              "      <th>0</th>\n",
              "      <td>100</td>\n",
              "      <td>370</td>\n",
              "      <td>N</td>\n",
              "      <td>[-0.315, -0.3, -0.305, -0.31, -0.32, -0.33, -0...</td>\n",
              "    </tr>\n",
              "    <tr>\n",
              "      <th>1</th>\n",
              "      <td>100</td>\n",
              "      <td>662</td>\n",
              "      <td>N</td>\n",
              "      <td>[-0.345, -0.345, -0.345, -0.33, -0.33, -0.335,...</td>\n",
              "    </tr>\n",
              "    <tr>\n",
              "      <th>2</th>\n",
              "      <td>100</td>\n",
              "      <td>946</td>\n",
              "      <td>N</td>\n",
              "      <td>[-0.365, -0.345, -0.345, -0.34, -0.355, -0.365...</td>\n",
              "    </tr>\n",
              "    <tr>\n",
              "      <th>3</th>\n",
              "      <td>100</td>\n",
              "      <td>1231</td>\n",
              "      <td>N</td>\n",
              "      <td>[-0.35, -0.35, -0.35, -0.34, -0.34, -0.345, -0...</td>\n",
              "    </tr>\n",
              "    <tr>\n",
              "      <th>4</th>\n",
              "      <td>100</td>\n",
              "      <td>1515</td>\n",
              "      <td>N</td>\n",
              "      <td>[-0.33, -0.315, -0.315, -0.33, -0.33, -0.335, ...</td>\n",
              "    </tr>\n",
              "  </tbody>\n",
              "</table>\n",
              "</div>\n",
              "    <div class=\"colab-df-buttons\">\n",
              "\n",
              "  <div class=\"colab-df-container\">\n",
              "    <button class=\"colab-df-convert\" onclick=\"convertToInteractive('df-44b3c5eb-3ace-4c81-bf84-571f6428f8d1')\"\n",
              "            title=\"Convert this dataframe to an interactive table.\"\n",
              "            style=\"display:none;\">\n",
              "\n",
              "  <svg xmlns=\"http://www.w3.org/2000/svg\" height=\"24px\" viewBox=\"0 -960 960 960\">\n",
              "    <path d=\"M120-120v-720h720v720H120Zm60-500h600v-160H180v160Zm220 220h160v-160H400v160Zm0 220h160v-160H400v160ZM180-400h160v-160H180v160Zm440 0h160v-160H620v160ZM180-180h160v-160H180v160Zm440 0h160v-160H620v160Z\"/>\n",
              "  </svg>\n",
              "    </button>\n",
              "\n",
              "  <style>\n",
              "    .colab-df-container {\n",
              "      display:flex;\n",
              "      gap: 12px;\n",
              "    }\n",
              "\n",
              "    .colab-df-convert {\n",
              "      background-color: #E8F0FE;\n",
              "      border: none;\n",
              "      border-radius: 50%;\n",
              "      cursor: pointer;\n",
              "      display: none;\n",
              "      fill: #1967D2;\n",
              "      height: 32px;\n",
              "      padding: 0 0 0 0;\n",
              "      width: 32px;\n",
              "    }\n",
              "\n",
              "    .colab-df-convert:hover {\n",
              "      background-color: #E2EBFA;\n",
              "      box-shadow: 0px 1px 2px rgba(60, 64, 67, 0.3), 0px 1px 3px 1px rgba(60, 64, 67, 0.15);\n",
              "      fill: #174EA6;\n",
              "    }\n",
              "\n",
              "    .colab-df-buttons div {\n",
              "      margin-bottom: 4px;\n",
              "    }\n",
              "\n",
              "    [theme=dark] .colab-df-convert {\n",
              "      background-color: #3B4455;\n",
              "      fill: #D2E3FC;\n",
              "    }\n",
              "\n",
              "    [theme=dark] .colab-df-convert:hover {\n",
              "      background-color: #434B5C;\n",
              "      box-shadow: 0px 1px 3px 1px rgba(0, 0, 0, 0.15);\n",
              "      filter: drop-shadow(0px 1px 2px rgba(0, 0, 0, 0.3));\n",
              "      fill: #FFFFFF;\n",
              "    }\n",
              "  </style>\n",
              "\n",
              "    <script>\n",
              "      const buttonEl =\n",
              "        document.querySelector('#df-44b3c5eb-3ace-4c81-bf84-571f6428f8d1 button.colab-df-convert');\n",
              "      buttonEl.style.display =\n",
              "        google.colab.kernel.accessAllowed ? 'block' : 'none';\n",
              "\n",
              "      async function convertToInteractive(key) {\n",
              "        const element = document.querySelector('#df-44b3c5eb-3ace-4c81-bf84-571f6428f8d1');\n",
              "        const dataTable =\n",
              "          await google.colab.kernel.invokeFunction('convertToInteractive',\n",
              "                                                    [key], {});\n",
              "        if (!dataTable) return;\n",
              "\n",
              "        const docLinkHtml = 'Like what you see? Visit the ' +\n",
              "          '<a target=\"_blank\" href=https://colab.research.google.com/notebooks/data_table.ipynb>data table notebook</a>'\n",
              "          + ' to learn more about interactive tables.';\n",
              "        element.innerHTML = '';\n",
              "        dataTable['output_type'] = 'display_data';\n",
              "        await google.colab.output.renderOutput(dataTable, element);\n",
              "        const docLink = document.createElement('div');\n",
              "        docLink.innerHTML = docLinkHtml;\n",
              "        element.appendChild(docLink);\n",
              "      }\n",
              "    </script>\n",
              "  </div>\n",
              "\n",
              "\n",
              "    <div id=\"df-da000189-727a-4744-b0ad-abf1fee64cee\">\n",
              "      <button class=\"colab-df-quickchart\" onclick=\"quickchart('df-da000189-727a-4744-b0ad-abf1fee64cee')\"\n",
              "                title=\"Suggest charts\"\n",
              "                style=\"display:none;\">\n",
              "\n",
              "<svg xmlns=\"http://www.w3.org/2000/svg\" height=\"24px\"viewBox=\"0 0 24 24\"\n",
              "     width=\"24px\">\n",
              "    <g>\n",
              "        <path d=\"M19 3H5c-1.1 0-2 .9-2 2v14c0 1.1.9 2 2 2h14c1.1 0 2-.9 2-2V5c0-1.1-.9-2-2-2zM9 17H7v-7h2v7zm4 0h-2V7h2v10zm4 0h-2v-4h2v4z\"/>\n",
              "    </g>\n",
              "</svg>\n",
              "      </button>\n",
              "\n",
              "<style>\n",
              "  .colab-df-quickchart {\n",
              "      --bg-color: #E8F0FE;\n",
              "      --fill-color: #1967D2;\n",
              "      --hover-bg-color: #E2EBFA;\n",
              "      --hover-fill-color: #174EA6;\n",
              "      --disabled-fill-color: #AAA;\n",
              "      --disabled-bg-color: #DDD;\n",
              "  }\n",
              "\n",
              "  [theme=dark] .colab-df-quickchart {\n",
              "      --bg-color: #3B4455;\n",
              "      --fill-color: #D2E3FC;\n",
              "      --hover-bg-color: #434B5C;\n",
              "      --hover-fill-color: #FFFFFF;\n",
              "      --disabled-bg-color: #3B4455;\n",
              "      --disabled-fill-color: #666;\n",
              "  }\n",
              "\n",
              "  .colab-df-quickchart {\n",
              "    background-color: var(--bg-color);\n",
              "    border: none;\n",
              "    border-radius: 50%;\n",
              "    cursor: pointer;\n",
              "    display: none;\n",
              "    fill: var(--fill-color);\n",
              "    height: 32px;\n",
              "    padding: 0;\n",
              "    width: 32px;\n",
              "  }\n",
              "\n",
              "  .colab-df-quickchart:hover {\n",
              "    background-color: var(--hover-bg-color);\n",
              "    box-shadow: 0 1px 2px rgba(60, 64, 67, 0.3), 0 1px 3px 1px rgba(60, 64, 67, 0.15);\n",
              "    fill: var(--button-hover-fill-color);\n",
              "  }\n",
              "\n",
              "  .colab-df-quickchart-complete:disabled,\n",
              "  .colab-df-quickchart-complete:disabled:hover {\n",
              "    background-color: var(--disabled-bg-color);\n",
              "    fill: var(--disabled-fill-color);\n",
              "    box-shadow: none;\n",
              "  }\n",
              "\n",
              "  .colab-df-spinner {\n",
              "    border: 2px solid var(--fill-color);\n",
              "    border-color: transparent;\n",
              "    border-bottom-color: var(--fill-color);\n",
              "    animation:\n",
              "      spin 1s steps(1) infinite;\n",
              "  }\n",
              "\n",
              "  @keyframes spin {\n",
              "    0% {\n",
              "      border-color: transparent;\n",
              "      border-bottom-color: var(--fill-color);\n",
              "      border-left-color: var(--fill-color);\n",
              "    }\n",
              "    20% {\n",
              "      border-color: transparent;\n",
              "      border-left-color: var(--fill-color);\n",
              "      border-top-color: var(--fill-color);\n",
              "    }\n",
              "    30% {\n",
              "      border-color: transparent;\n",
              "      border-left-color: var(--fill-color);\n",
              "      border-top-color: var(--fill-color);\n",
              "      border-right-color: var(--fill-color);\n",
              "    }\n",
              "    40% {\n",
              "      border-color: transparent;\n",
              "      border-right-color: var(--fill-color);\n",
              "      border-top-color: var(--fill-color);\n",
              "    }\n",
              "    60% {\n",
              "      border-color: transparent;\n",
              "      border-right-color: var(--fill-color);\n",
              "    }\n",
              "    80% {\n",
              "      border-color: transparent;\n",
              "      border-right-color: var(--fill-color);\n",
              "      border-bottom-color: var(--fill-color);\n",
              "    }\n",
              "    90% {\n",
              "      border-color: transparent;\n",
              "      border-bottom-color: var(--fill-color);\n",
              "    }\n",
              "  }\n",
              "</style>\n",
              "\n",
              "      <script>\n",
              "        async function quickchart(key) {\n",
              "          const quickchartButtonEl =\n",
              "            document.querySelector('#' + key + ' button');\n",
              "          quickchartButtonEl.disabled = true;  // To prevent multiple clicks.\n",
              "          quickchartButtonEl.classList.add('colab-df-spinner');\n",
              "          try {\n",
              "            const charts = await google.colab.kernel.invokeFunction(\n",
              "                'suggestCharts', [key], {});\n",
              "          } catch (error) {\n",
              "            console.error('Error during call to suggestCharts:', error);\n",
              "          }\n",
              "          quickchartButtonEl.classList.remove('colab-df-spinner');\n",
              "          quickchartButtonEl.classList.add('colab-df-quickchart-complete');\n",
              "        }\n",
              "        (() => {\n",
              "          let quickchartButtonEl =\n",
              "            document.querySelector('#df-da000189-727a-4744-b0ad-abf1fee64cee button');\n",
              "          quickchartButtonEl.style.display =\n",
              "            google.colab.kernel.accessAllowed ? 'block' : 'none';\n",
              "        })();\n",
              "      </script>\n",
              "    </div>\n",
              "\n",
              "    </div>\n",
              "  </div>\n"
            ],
            "application/vnd.google.colaboratory.intrinsic+json": {
              "type": "dataframe",
              "variable_name": "df",
              "summary": "{\n  \"name\": \"df\",\n  \"rows\": 84703,\n  \"fields\": [\n    {\n      \"column\": \"record\",\n      \"properties\": {\n        \"dtype\": \"category\",\n        \"num_unique_values\": 48,\n        \"samples\": [\n          \"205\",\n          \"222\",\n          \"203\"\n        ],\n        \"semantic_type\": \"\",\n        \"description\": \"\"\n      }\n    },\n    {\n      \"column\": \"sample\",\n      \"properties\": {\n        \"dtype\": \"number\",\n        \"std\": 188782,\n        \"min\": 124,\n        \"max\": 649883,\n        \"num_unique_values\": 79530,\n        \"samples\": [\n          17910,\n          592811,\n          66476\n        ],\n        \"semantic_type\": \"\",\n        \"description\": \"\"\n      }\n    },\n    {\n      \"column\": \"label\",\n      \"properties\": {\n        \"dtype\": \"category\",\n        \"num_unique_values\": 3,\n        \"samples\": [\n          \"N\",\n          \"A\",\n          \"V\"\n        ],\n        \"semantic_type\": \"\",\n        \"description\": \"\"\n      }\n    },\n    {\n      \"column\": \"signal\",\n      \"properties\": {\n        \"dtype\": \"object\",\n        \"semantic_type\": \"\",\n        \"description\": \"\"\n      }\n    }\n  ]\n}"
            }
          },
          "metadata": {},
          "execution_count": 6
        }
      ],
      "source": [
        "data = []\n",
        "clases = ['N', 'V', 'A'] #definimos las clases de interés. \"Atrial premature beat=A\" es un tipo de latido supraventricular y coincide con las siglas de la consigna\n",
        "\n",
        "lista_registros = wfdb.get_record_list('mitdb') #Obtenemos la lista de registros\n",
        "\n",
        "for nombre_registros in lista_registros: #Recorremos los registros\n",
        "    annotation = wfdb.rdann(nombre_registros, 'atr', pn_dir='mitdb') #Cargamos las anotaciones\n",
        "\n",
        "    record = wfdb.rdrecord(nombre_registros, pn_dir='mitdb') #Cargamos señal completa, con sus dos canales (nombre del registro y directorio)\n",
        "    signal = record.p_signal[:, 0]  ##xtraemos el canal 0 que es el principal para manejarlo como un vector (no como una matriz registro/canal)\n",
        "\n",
        "    for index, label in zip(annotation.sample, annotation.symbol): #Sample son los indices de cada anotación de latido, symbol son las etiquetas. Zip combina ambos valores\n",
        "        if label in clases: #Filtramos las clases de interés para no recorrer todo\n",
        "            window_size = 200 #Longitud de ventana razonable https://www.sciencedirect.com/science/article/abs/pii/S1746809413000062\n",
        "            if index - window_size//2 >= 0 and index + window_size//2 <= len(signal): #Verificamos que el indice de la muestra este dentro de la ventana\n",
        "                beat = signal[index - window_size//2 : index + window_size//2]\n",
        "                data.append({\n",
        "                    'record': nombre_registros,\n",
        "                    'sample': index,\n",
        "                    'label': label,\n",
        "                    'signal': beat\n",
        "                })\n",
        "\n",
        "df = pd.DataFrame(data)\n",
        "\n",
        "print(f\"DataFrame construido con {len(df)} latidos.\")\n",
        "df.head()"
      ]
    },
    {
      "cell_type": "markdown",
      "metadata": {
        "id": "KYr8CGGdSDRo"
      },
      "source": [
        "#Paso 2 - Preprocesamiento"
      ]
    },
    {
      "cell_type": "markdown",
      "metadata": {
        "id": "k67LP09U3_gC"
      },
      "source": [
        "1. Nos enfocamos solo en 3 clases: 'N' → Latido normal (Normal beat). 'V' → Contracción ventricular prematura (PVC),'A' → Latido supraventricular prematuro (APB), descartando otros tipos de latidos\n",
        "2. Recorremos cada registro de la base MIT-BIH; se filtra toda la señal usando un filtro Butterworth pasa-bajos de 40 Hz para reducir el ruido.  https://docs.scipy.org/doc/scipy/reference/generated/scipy.signal.butter.html\n",
        "3. Segmentación: Se corta una ventana de 200 milisegundos (72 muestras) alrededor del pico. Se extrae solo la señal que rodea al evento cardíaco.\n",
        "4. Normalización: Cada ventana segmentada se normaliza: Media = 0, Desviación estándar = 1; de esta forma quedan los latidos comparables entre si.\n",
        "Cada latido filtrado, segmentado y normalizado se guarda en un DataFrame (df)\n",
        "\n"
      ]
    },
    {
      "cell_type": "markdown",
      "metadata": {
        "id": "0ri_ZHo_WKWj"
      },
      "source": [
        "##2.1/2.2 Filtrado y Segmentación"
      ]
    },
    {
      "cell_type": "code",
      "execution_count": 7,
      "metadata": {
        "id": "XLiAEl4kV7lN"
      },
      "outputs": [],
      "source": [
        "## 1. Instalamos e importamos librerías\n",
        "import numpy as np\n",
        "from scipy.signal import butter, filtfilt\n",
        "from sklearn.model_selection import train_test_split"
      ]
    },
    {
      "cell_type": "code",
      "execution_count": 8,
      "metadata": {
        "id": "Arh4Ef-DV-nc"
      },
      "outputs": [],
      "source": [
        "# 2. Definimos parámetros\n",
        "waveform_db = 'mitdb'\n",
        "clases_interes = ['N', 'V', 'A']  # Nos quedamos solo con las clases de interés\n",
        "fs = 360  # Definimos la frecuencia de muestreo (Hz)\n",
        "ventana_muestras = int(0.2 * fs)  # 0.2 segundos alrededor del pico R. * 360 Hz frecuencia = 72 muestras\n",
        "mitad_ventana = ventana_muestras // 2"
      ]
    },
    {
      "cell_type": "code",
      "execution_count": null,
      "metadata": {
        "colab": {
          "background_save": true,
          "base_uri": "https://localhost:8080/"
        },
        "collapsed": true,
        "id": "RjrkW5cu1Z2q",
        "outputId": "0e561f04-a9d8-4976-8455-91167ee0b1e8"
      },
      "outputs": [
        {
          "output_type": "stream",
          "name": "stdout",
          "text": [
            "La base de datos 'mitdb' contiene 48 registros.\n",
            "Procesando registro: 100...\n",
            "Procesando registro: 101...\n",
            "Procesando registro: 102...\n",
            "Procesando registro: 103...\n",
            "Procesando registro: 104...\n",
            "Procesando registro: 105...\n",
            "Procesando registro: 106...\n",
            "Procesando registro: 107...\n",
            "Procesando registro: 108...\n",
            "Procesando registro: 109...\n",
            "Procesando registro: 111...\n",
            "Procesando registro: 112...\n",
            "Procesando registro: 113...\n",
            "Procesando registro: 114...\n",
            "Procesando registro: 115...\n",
            "Procesando registro: 116...\n",
            "Procesando registro: 117...\n",
            "Procesando registro: 118...\n",
            "Procesando registro: 119...\n",
            "Procesando registro: 121...\n",
            "Procesando registro: 122...\n",
            "Procesando registro: 123...\n",
            "Procesando registro: 124...\n",
            "Procesando registro: 200...\n",
            "Procesando registro: 201...\n",
            "Procesando registro: 202...\n",
            "Procesando registro: 203...\n",
            "Procesando registro: 205...\n",
            "Procesando registro: 207...\n",
            "Procesando registro: 208...\n",
            "Procesando registro: 209...\n",
            "Procesando registro: 210...\n",
            "Procesando registro: 212...\n",
            "Procesando registro: 213...\n",
            "Procesando registro: 214...\n"
          ]
        }
      ],
      "source": [
        "# 3. Definimos funciones\n",
        "def butter_lowpass_filter(data, cutoff=40, fs=360, order=4):\n",
        "    nyq = 0.5 * fs\n",
        "    normal_cutoff = cutoff / nyq\n",
        "    b, a = butter(order, normal_cutoff, btype='low', analog=False)\n",
        "    y = filtfilt(b, a, data)\n",
        "    return y\n",
        "\n",
        "def normalizar_latido(latido):\n",
        "    return (latido - np.mean(latido)) / np.std(latido)\n",
        "\n",
        "# 4. Obtenemos lista de registros\n",
        "lista_registros = wfdb.get_record_list(waveform_db)\n",
        "print(f\"La base de datos '{waveform_db}' contiene {len(lista_registros)} registros.\")\n",
        "\n",
        "# 5. Inicializamos lista para guardar latidos\n",
        "data = []\n",
        "\n",
        "# 6. Recorremos registros\n",
        "for registro in lista_registros:\n",
        "    print(f\"Procesando registro: {registro}...\")\n",
        "\n",
        "    # Carga la señal y anotaciones\n",
        "    record = wfdb.rdrecord(registro, pn_dir='mitdb')\n",
        "    annotation = wfdb.rdann(registro, 'atr', pn_dir='mitdb')\n",
        "\n",
        "    signal = record.p_signal[:, 0]  #Canal principal\n",
        "\n",
        "    # Filtramos la señal completa una sola vez\n",
        "    signal_filtrada = butter_lowpass_filter(signal, cutoff=40, fs=360)\n",
        "\n",
        "    # Recorremos latidos anotados\n",
        "    for index, label in zip(annotation.sample, annotation.symbol):\n",
        "        if label in clases_interes:\n",
        "            inicio = index - mitad_ventana\n",
        "            fin = index + mitad_ventana\n",
        "            if inicio >= 0 and fin <= len(signal_filtrada):\n",
        "                # Segmentamos ventana de 200ms\n",
        "                latido = signal_filtrada[inicio:fin]\n",
        "\n",
        "                # Normalizamos el latido\n",
        "                latido_normalizado = normalizar_latido(latido)\n",
        "\n",
        "                # Guarda el  latido\n",
        "                data.append({\n",
        "                    'record': registro,\n",
        "                    'sample': index,\n",
        "                    'label': label,\n",
        "                    'signal_normalizada': latido_normalizado\n",
        "                })\n",
        "\n",
        "# 7. Creamos el DataFrame\n",
        "df = pd.DataFrame(data)\n",
        "\n",
        "print(f\"\\n Procesamiento completo: {len(df)} latidos segmentados, filtrados y normalizados.\")\n",
        "df.head(100)\n"
      ]
    },
    {
      "cell_type": "markdown",
      "metadata": {
        "id": "gjyWJ3Xn7NTq"
      },
      "source": [
        "##2.3 División de datos\n",
        "•\t70% entrenamiento, 15% validación, 15% test (mezcla aleatoria).\n"
      ]
    },
    {
      "cell_type": "code",
      "execution_count": null,
      "metadata": {
        "colab": {
          "background_save": true
        },
        "id": "FBDF5cuS7nMD"
      },
      "outputs": [],
      "source": [
        "\n",
        "# 1. preparamos X e y\n",
        "X = np.vstack(df['signal_normalizada'].values)  # Señales (cada fila = 72 muestras)\n",
        "y = df['label'].values                          # Etiquetas\n",
        "\n",
        "# 2. dividimos en entrenamiento, validación y test\n",
        "from sklearn.model_selection import train_test_split\n",
        "\n",
        "# Primera división: entrenamiento (70%) y \"restante\" (30%)\n",
        "X_train, X_temp, y_train, y_temp = train_test_split(X, y, test_size=0.3, random_state=42, stratify=y)\n",
        "\n",
        "# Segunda división: validación (15%) y test (15%)\n",
        "X_val, X_test, y_val, y_test = train_test_split(X_temp, y_temp, test_size=0.5, random_state=42, stratify=y_temp)\n",
        "\n",
        "# Mostramos tamaños\n",
        "print(f\"Tamaño entrenamiento: {len(X_train)} muestras\")\n",
        "print(f\"Tamaño validación: {len(X_val)} muestras\")\n",
        "print(f\"Tamaño test: {len(X_test)} muestras\")\n"
      ]
    },
    {
      "cell_type": "markdown",
      "metadata": {
        "id": "HfCCbR8paYrn"
      },
      "source": [
        "#Paso 3 - Modelado"
      ]
    },
    {
      "cell_type": "markdown",
      "metadata": {
        "id": "NU16mYLLgdkd"
      },
      "source": [
        "##3.1 Red Prealimentada (MLP)"
      ]
    },
    {
      "cell_type": "code",
      "execution_count": null,
      "metadata": {
        "colab": {
          "background_save": true
        },
        "id": "THL3x5Hyd0YI"
      },
      "outputs": [],
      "source": [
        "#1. Importamos las librerías necesarias\n",
        "import tensorflow as tf\n",
        "from tensorflow import keras\n",
        "from tensorflow.keras.models import Sequential\n",
        "from tensorflow.keras.layers import Dense, Dropout"
      ]
    },
    {
      "cell_type": "code",
      "execution_count": null,
      "metadata": {
        "colab": {
          "background_save": true
        },
        "id": "vouNM7RkjgVL"
      },
      "outputs": [],
      "source": [
        "# 2. Definimos la arquitectura de 2 capas densas\n",
        "model = Sequential([\n",
        "    Dense(64, activation='relu', input_shape=(200,)),\n",
        "    Dropout(0.3), #Apagamos el 30% de las neuronas de la capa anterior (valor intermedio entre 0.2 y 0.5 que son los valores habituales)\n",
        "    Dense(32, activation='relu'),\n",
        "    Dropout(0.3),\n",
        "    Dense(3, activation='softmax')  # Probabilidad para las 3 clases: N, V, A\n",
        "])"
      ]
    },
    {
      "cell_type": "code",
      "execution_count": null,
      "metadata": {
        "colab": {
          "background_save": true
        },
        "id": "7DBNDNwyfzPM"
      },
      "outputs": [],
      "source": [
        "# 3. Compilamos el modelo con adam\n",
        "model.compile(\n",
        "    optimizer='adam', #Algoritmo más usado y mejor relación velocidad - resultado\n",
        "    loss='categorical_crossentropy', #Función de perdida para cuando hay + de 2 clases\n",
        "    metrics=['accuracy'] #Capturamos accuracy para poder evaluar luego\n",
        ")\n"
      ]
    },
    {
      "cell_type": "code",
      "execution_count": null,
      "metadata": {
        "colab": {
          "background_save": true
        },
        "id": "Bhr6R9pgiblE"
      },
      "outputs": [],
      "source": [
        "# 3. Prueba con sgd (adicional, descomentar)\n",
        "# from tensorflow.keras.optimizers import SGD\n",
        "\n",
        "# model.compile(\n",
        "#     optimizer=SGD(learning_rate=0.01, momentum=0.9), #Valores estandard\n",
        "#     loss='categorical_crossentropy',\n",
        "#     metrics=['accuracy']\n",
        "# )"
      ]
    },
    {
      "cell_type": "code",
      "execution_count": null,
      "metadata": {
        "colab": {
          "background_save": true
        },
        "id": "6SCKw6SGkStz"
      },
      "outputs": [],
      "source": [
        "#4. Entrenamos el modelo\n",
        "history = model.fit(\n",
        "    X_train, y_train,\n",
        "    validation_data=(X_val, y_val),\n",
        "    epochs=10, #Validamos temprano overfitting\n",
        "    batch_size=64 #Tardará menos si el lote es grande\n",
        ")"
      ]
    },
    {
      "cell_type": "code",
      "execution_count": null,
      "metadata": {
        "colab": {
          "background_save": true
        },
        "id": "H6oQwpHBkB99"
      },
      "outputs": [],
      "source": [
        "#5. Evaluamos el modelo\n",
        "loss, accuracy = model.evaluate(X_test, y_test)\n",
        "print(f'Pérdida: {loss:.4f}')\n",
        "print(f'Accuracy: {accuracy:.4f}')"
      ]
    }
  ],
  "metadata": {
    "colab": {
      "toc_visible": true,
      "provenance": [],
      "include_colab_link": true
    },
    "kernelspec": {
      "display_name": "Python 3",
      "name": "python3"
    },
    "language_info": {
      "name": "python"
    }
  },
  "nbformat": 4,
  "nbformat_minor": 0
}